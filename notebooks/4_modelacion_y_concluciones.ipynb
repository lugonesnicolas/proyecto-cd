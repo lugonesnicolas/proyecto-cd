{
 "cells": [
  {
   "cell_type": "code",
   "execution_count": 218,
   "id": "00482384-b6ba-4010-9830-1c35d013a980",
   "metadata": {},
   "outputs": [],
   "source": [
    "%matplotlib inline\n",
    "import pandas as pd"
   ]
  },
  {
   "cell_type": "code",
   "execution_count": 219,
   "id": "5dda42b1-33e4-4dfc-a535-28ead602175a",
   "metadata": {},
   "outputs": [],
   "source": [
    "compras_df = pd.read_csv('data/compras_df_enriched.csv')"
   ]
  },
  {
   "cell_type": "markdown",
   "id": "35fe180f-6211-4859-a3f1-480955b27e52",
   "metadata": {
    "tags": []
   },
   "source": [
    "## Probar un modelo supervisado"
   ]
  },
  {
   "cell_type": "code",
   "execution_count": 220,
   "id": "bdf1531c-c130-4951-920f-8da00cf2c7d4",
   "metadata": {},
   "outputs": [],
   "source": [
    "data = compras_df.copy()\n",
    "for i, column in enumerate(list([str(d) for d in data.dtypes])):\n",
    "    if column == 'object':\n",
    "        data[data.columns[i]] = data[data.columns[i]].fillna(data[data.columns[i]].mode())\n",
    "        data[data.columns[i]] = data[data.columns[i]].astype('category').cat.codes\n",
    "    else:\n",
    "        data[data.columns[i]] = data[data.columns[i]].fillna(data[data.columns[i]].median())"
   ]
  },
  {
   "cell_type": "code",
   "execution_count": 221,
   "id": "811e98b4-04b9-4205-b2b2-1abc2f83b3eb",
   "metadata": {},
   "outputs": [
    {
     "data": {
      "text/html": [
       "<div>\n",
       "<style scoped>\n",
       "    .dataframe tbody tr th:only-of-type {\n",
       "        vertical-align: middle;\n",
       "    }\n",
       "\n",
       "    .dataframe tbody tr th {\n",
       "        vertical-align: top;\n",
       "    }\n",
       "\n",
       "    .dataframe thead th {\n",
       "        text-align: right;\n",
       "    }\n",
       "</style>\n",
       "<table border=\"1\" class=\"dataframe\">\n",
       "  <thead>\n",
       "    <tr style=\"text-align: right;\">\n",
       "      <th></th>\n",
       "      <th>NUM BEN</th>\n",
       "      <th>BENEFICIARIO</th>\n",
       "      <th>RFC</th>\n",
       "      <th>FACTURA</th>\n",
       "      <th>CONTRATO</th>\n",
       "      <th>CONCEPTO</th>\n",
       "      <th>TIPO</th>\n",
       "      <th># OP</th>\n",
       "      <th>FECHA</th>\n",
       "      <th>IMPORTE</th>\n",
       "      <th>SHEET</th>\n",
       "      <th>DIA</th>\n",
       "      <th>MES</th>\n",
       "      <th>ANO</th>\n",
       "      <th>BENEFICIARIO_SALES</th>\n",
       "      <th>IMPORTE_GASTO_PROMEDIO</th>\n",
       "      <th>HAS_LINKED_SITE</th>\n",
       "    </tr>\n",
       "  </thead>\n",
       "  <tbody>\n",
       "    <tr>\n",
       "      <th>0</th>\n",
       "      <td>110152</td>\n",
       "      <td>161</td>\n",
       "      <td>167</td>\n",
       "      <td>1388</td>\n",
       "      <td>130</td>\n",
       "      <td>780</td>\n",
       "      <td>1</td>\n",
       "      <td>1019110.0</td>\n",
       "      <td>8</td>\n",
       "      <td>14911.80</td>\n",
       "      <td>2</td>\n",
       "      <td>11</td>\n",
       "      <td>12</td>\n",
       "      <td>2020</td>\n",
       "      <td>13</td>\n",
       "      <td>881659.731797</td>\n",
       "      <td>True</td>\n",
       "    </tr>\n",
       "    <tr>\n",
       "      <th>1</th>\n",
       "      <td>110152</td>\n",
       "      <td>161</td>\n",
       "      <td>167</td>\n",
       "      <td>1389</td>\n",
       "      <td>135</td>\n",
       "      <td>845</td>\n",
       "      <td>1</td>\n",
       "      <td>1019110.0</td>\n",
       "      <td>8</td>\n",
       "      <td>2528.80</td>\n",
       "      <td>2</td>\n",
       "      <td>11</td>\n",
       "      <td>12</td>\n",
       "      <td>2020</td>\n",
       "      <td>13</td>\n",
       "      <td>881659.731797</td>\n",
       "      <td>True</td>\n",
       "    </tr>\n",
       "    <tr>\n",
       "      <th>2</th>\n",
       "      <td>110152</td>\n",
       "      <td>161</td>\n",
       "      <td>167</td>\n",
       "      <td>1390</td>\n",
       "      <td>132</td>\n",
       "      <td>759</td>\n",
       "      <td>1</td>\n",
       "      <td>1019110.0</td>\n",
       "      <td>8</td>\n",
       "      <td>8500.02</td>\n",
       "      <td>2</td>\n",
       "      <td>11</td>\n",
       "      <td>12</td>\n",
       "      <td>2020</td>\n",
       "      <td>13</td>\n",
       "      <td>881659.731797</td>\n",
       "      <td>True</td>\n",
       "    </tr>\n",
       "    <tr>\n",
       "      <th>3</th>\n",
       "      <td>110152</td>\n",
       "      <td>161</td>\n",
       "      <td>167</td>\n",
       "      <td>1391</td>\n",
       "      <td>131</td>\n",
       "      <td>757</td>\n",
       "      <td>1</td>\n",
       "      <td>1019110.0</td>\n",
       "      <td>8</td>\n",
       "      <td>2400.01</td>\n",
       "      <td>2</td>\n",
       "      <td>11</td>\n",
       "      <td>12</td>\n",
       "      <td>2020</td>\n",
       "      <td>13</td>\n",
       "      <td>881659.731797</td>\n",
       "      <td>True</td>\n",
       "    </tr>\n",
       "    <tr>\n",
       "      <th>4</th>\n",
       "      <td>110152</td>\n",
       "      <td>161</td>\n",
       "      <td>167</td>\n",
       "      <td>1392</td>\n",
       "      <td>417</td>\n",
       "      <td>859</td>\n",
       "      <td>1</td>\n",
       "      <td>299001496.0</td>\n",
       "      <td>16</td>\n",
       "      <td>1537.00</td>\n",
       "      <td>2</td>\n",
       "      <td>23</td>\n",
       "      <td>12</td>\n",
       "      <td>2020</td>\n",
       "      <td>13</td>\n",
       "      <td>881659.731797</td>\n",
       "      <td>True</td>\n",
       "    </tr>\n",
       "  </tbody>\n",
       "</table>\n",
       "</div>"
      ],
      "text/plain": [
       "   NUM BEN  BENEFICIARIO  RFC  FACTURA  CONTRATO  CONCEPTO  TIPO         # OP  \\\n",
       "0   110152           161  167     1388       130       780     1    1019110.0   \n",
       "1   110152           161  167     1389       135       845     1    1019110.0   \n",
       "2   110152           161  167     1390       132       759     1    1019110.0   \n",
       "3   110152           161  167     1391       131       757     1    1019110.0   \n",
       "4   110152           161  167     1392       417       859     1  299001496.0   \n",
       "\n",
       "   FECHA   IMPORTE  SHEET  DIA  MES   ANO  BENEFICIARIO_SALES  \\\n",
       "0      8  14911.80      2   11   12  2020                  13   \n",
       "1      8   2528.80      2   11   12  2020                  13   \n",
       "2      8   8500.02      2   11   12  2020                  13   \n",
       "3      8   2400.01      2   11   12  2020                  13   \n",
       "4     16   1537.00      2   23   12  2020                  13   \n",
       "\n",
       "   IMPORTE_GASTO_PROMEDIO  HAS_LINKED_SITE  \n",
       "0           881659.731797             True  \n",
       "1           881659.731797             True  \n",
       "2           881659.731797             True  \n",
       "3           881659.731797             True  \n",
       "4           881659.731797             True  "
      ]
     },
     "execution_count": 221,
     "metadata": {},
     "output_type": "execute_result"
    }
   ],
   "source": [
    "data.head(5)"
   ]
  },
  {
   "cell_type": "code",
   "execution_count": 222,
   "id": "0a013b17-7430-49df-acc3-ef510369f6df",
   "metadata": {},
   "outputs": [],
   "source": [
    "from sklearn.ensemble import RandomForestRegressor\n",
    "from sklearn.model_selection import train_test_split"
   ]
  },
  {
   "cell_type": "code",
   "execution_count": 223,
   "id": "6a40a2e0-29b4-40be-bdad-f17502cc8cec",
   "metadata": {},
   "outputs": [],
   "source": [
    "y = data.pop('IMPORTE')\n",
    "X = data.copy()"
   ]
  },
  {
   "cell_type": "code",
   "execution_count": 224,
   "id": "ebcb47bc-57b8-47e7-bf24-e4eaeab9835b",
   "metadata": {},
   "outputs": [],
   "source": [
    "X_train, X_test, y_train, y_test = train_test_split(X, y, test_size=0.33, random_state=42)"
   ]
  },
  {
   "cell_type": "code",
   "execution_count": 226,
   "id": "b5279d0d-791c-444f-a559-e7b6fdbc7a69",
   "metadata": {},
   "outputs": [],
   "source": [
    "clf = RandomForestRegressor(n_estimators=1000, max_depth = 4)"
   ]
  },
  {
   "cell_type": "code",
   "execution_count": 264,
   "id": "f4aaf3ae-7991-4eae-b82d-e8f0907694a1",
   "metadata": {},
   "outputs": [
    {
     "data": {
      "text/plain": [
       "RandomForestRegressor(max_depth=4, n_estimators=1000)"
      ]
     },
     "execution_count": 264,
     "metadata": {},
     "output_type": "execute_result"
    }
   ],
   "source": [
    "clf.fit(X_train, y_train)"
   ]
  },
  {
   "cell_type": "code",
   "execution_count": 252,
   "id": "1abe618e-eaf0-4069-abbe-0a831697d06b",
   "metadata": {
    "tags": []
   },
   "outputs": [],
   "source": [
    "from sklearn.metrics import r2_score"
   ]
  },
  {
   "cell_type": "code",
   "execution_count": 265,
   "id": "b5f577c8-1684-4535-8f5a-1be34598305b",
   "metadata": {
    "tags": []
   },
   "outputs": [
    {
     "data": {
      "text/plain": [
       "0.18650466729532267"
      ]
     },
     "execution_count": 265,
     "metadata": {},
     "output_type": "execute_result"
    }
   ],
   "source": [
    "r2_score(y_test, clf.predict(X_test))"
   ]
  },
  {
   "cell_type": "markdown",
   "id": "8548e73a-7d58-4539-b303-9f881514a21c",
   "metadata": {
    "tags": []
   },
   "source": [
    "## Probar un modelo no supervisado o de clusterin para texto"
   ]
  },
  {
   "cell_type": "code",
   "execution_count": 266,
   "id": "f710f850-c3f8-4d4f-8e0e-16c3603f2c11",
   "metadata": {},
   "outputs": [],
   "source": [
    "import gensim\n",
    "from nltk.corpus import stopwords\n",
    "import numpy as np\n",
    "np.random.seed(2021)"
   ]
  },
  {
   "cell_type": "code",
   "execution_count": 267,
   "id": "0efb9fed-bd06-42e1-9777-b567768f60aa",
   "metadata": {},
   "outputs": [],
   "source": [
    "def preprocess(text):\n",
    "    result = []\n",
    "    for token in text.split():\n",
    "        if token not in stopwords.words('spanish') and len(token)>4:\n",
    "            result.append(token)\n",
    "    return result"
   ]
  },
  {
   "cell_type": "code",
   "execution_count": 268,
   "id": "d6a7dcd9-d578-4884-9983-da0a25a4be2a",
   "metadata": {},
   "outputs": [],
   "source": [
    "process_business = [preprocess(x) for x in list(compras_df['BENEFICIARIO'].unique())]"
   ]
  },
  {
   "cell_type": "code",
   "execution_count": 269,
   "id": "85f8019a-5ce5-46ee-84b0-f92b350ea7b8",
   "metadata": {},
   "outputs": [],
   "source": [
    "dictionary = gensim.corpora.Dictionary(process_business)"
   ]
  },
  {
   "cell_type": "code",
   "execution_count": 270,
   "id": "9bc519c2-60fb-49d3-bafd-0038b3f772d1",
   "metadata": {},
   "outputs": [],
   "source": [
    "dictionary.filter_extremes(no_below=1, no_above=0.5)"
   ]
  },
  {
   "cell_type": "code",
   "execution_count": 271,
   "id": "74d90eda-f9a6-4671-92fc-b37d5ea61db8",
   "metadata": {},
   "outputs": [],
   "source": [
    "bow_corpus = [dictionary.doc2bow(doc) for doc in process_business]"
   ]
  },
  {
   "cell_type": "code",
   "execution_count": 272,
   "id": "c050966e-4987-44f9-8cf5-5fff9ae98308",
   "metadata": {},
   "outputs": [],
   "source": [
    "lda_model = gensim.models.LdaMulticore(bow_corpus, num_topics=6, id2word=dictionary, passes=10, workers=2)"
   ]
  },
  {
   "cell_type": "code",
   "execution_count": 273,
   "id": "7806dacc-91e4-49d5-82d7-01923c47f459",
   "metadata": {},
   "outputs": [
    {
     "name": "stdout",
     "output_type": "stream",
     "text": [
      "Topic:0 Words:0.010*\"DESARROLLOS\" + 0.010*\"GARZA\" + 0.010*\"GUERRERO\" + 0.010*\"INSTITUTO\" + 0.010*\"SALAZAR\" + 0.010*\"ADRIANA\" + 0.010*\"BANCO\" + 0.010*\"URBANIZACIONES\" + 0.010*\"IGNACIO\" + 0.010*\"JESUS\"\n",
      "Topic:1 Words:0.032*\"GARCIA\" + 0.021*\"GARZA\" + 0.017*\"GONZALEZ\" + 0.013*\"MARIA\" + 0.013*\"TREVIÑO\" + 0.013*\"MARCELO\" + 0.013*\"ARTURO\" + 0.013*\"MANUEL\" + 0.009*\"ALBERTO\" + 0.009*\"CARLOS\"\n",
      "Topic:2 Words:0.015*\"GRUPO\" + 0.010*\"SERVICIOS\" + 0.010*\"ESTHER\" + 0.010*\"MARTINEZ\" + 0.010*\"MONTERREY\" + 0.010*\"CONSTRUCTORA\" + 0.010*\"MORENO\" + 0.005*\"VILLARREAL\" + 0.005*\"HERNANDEZ\" + 0.005*\"ALEJANDRO\"\n",
      "Topic:3 Words:0.034*\"MARIA\" + 0.023*\"RODRIGUEZ\" + 0.023*\"GONZALEZ\" + 0.015*\"GOMEZ\" + 0.012*\"LOZANO\" + 0.012*\"SANCHEZ\" + 0.008*\"TORRES\" + 0.008*\"DESARROLLO\" + 0.008*\"PEREZ\" + 0.008*\"SEGURIDAD\"\n",
      "Topic:4 Words:0.031*\"CONSTRUCTORA\" + 0.018*\"CONSTRUCCIONES\" + 0.018*\"MEXICO,\" + 0.010*\"NUEVO\" + 0.010*\"RAMIREZ\" + 0.009*\"SEGUROS\" + 0.009*\"INTEGRACION\" + 0.009*\"SEBASTIAN,\" + 0.009*\"ARRENDADORA\" + 0.009*\"GRUPO\"\n",
      "Topic:5 Words:0.019*\"MONTERREY,\" + 0.014*\"SERVICIOS\" + 0.014*\"CONSTRUCCION\" + 0.010*\"MEXICO,\" + 0.010*\"INFRAESTRUCTURA\" + 0.010*\"CANTU\" + 0.010*\"FLORES\" + 0.010*\"VAZQUEZ\" + 0.010*\"MARCELO\" + 0.010*\"GONZALEZ\"\n"
     ]
    }
   ],
   "source": [
    "for idx, type_business in lda_model.print_topics(-1):\n",
    "    print('Topic:{} Words:{}'.format(idx, type_business))"
   ]
  },
  {
   "cell_type": "code",
   "execution_count": 274,
   "id": "2a887ced-d670-40b1-b6e2-15f2b159582c",
   "metadata": {},
   "outputs": [],
   "source": [
    "def get_max_topic(index):\n",
    "    results = lda_model[bow_corpus[index]]\n",
    "    return max(lda_model[results], key=lambda x: x[1])[0]"
   ]
  },
  {
   "cell_type": "code",
   "execution_count": 275,
   "id": "a3626f01-c7c5-4356-9ee5-4b4c8f12f1fe",
   "metadata": {},
   "outputs": [],
   "source": [
    "business_cluster = {x: get_max_topic(i) for i, x in enumerate(list(compras_df['BENEFICIARIO'].unique()))}"
   ]
  },
  {
   "cell_type": "code",
   "execution_count": 276,
   "id": "ffb0dea4-afe1-413a-bc5d-9de2edc9b9d1",
   "metadata": {},
   "outputs": [],
   "source": [
    "compras_df['CLUSTER_NAME'] = compras_df['BENEFICIARIO'].apply(lambda x: business_cluster[x])"
   ]
  },
  {
   "cell_type": "code",
   "execution_count": 277,
   "id": "07716578-7f13-4b7b-ab8e-5df1d1f2c170",
   "metadata": {},
   "outputs": [
    {
     "data": {
      "text/plain": [
       "{'LLANTAS Y SERVICIOS SERNA ANAHUAC,S.A. DE C.V.': 0,\n",
       " 'GH MAQUINARIA Y EQUIPO, S.A.DE C.V.': 0,\n",
       " 'PLOMIFERRETERA EL TORNILLO, S.A. DE C.V.': 2,\n",
       " 'EQUIPOS Y ACCESORIOS CANTU, S.A. DE C.V.': 2,\n",
       " 'PRAXAIR MEXICO S. DE R.L. DE C.V.': 5,\n",
       " 'COMERCIALIZADORA HNOS.ALVAREZ FLORES,S.A.DE C.V.': 0,\n",
       " 'DISTRIBUIDORA DE FRUTAS Y LEGUMBRES LA HORTALIZA,S.A.DE C.V.': 2,\n",
       " 'NUÑEZ LOPEZ VIRGINIA': 5,\n",
       " 'S.I.M.E.P.R.O.D.E.': 2,\n",
       " 'TRACTORES Y MAQUINARIA REAL, S.A. DE C.V.': 2,\n",
       " 'TELEFONOS DE MEXICO,S.A.B DE C.V.': 0,\n",
       " 'MERCANTIL DISTRIBUIDORA, S.A. DE C.V.': 0,\n",
       " 'GRANA,S.A.': 0,\n",
       " 'CLUB INTERNACIONAL DE MONTERREY,A.C.': 0,\n",
       " 'EMPACADORA Y DISTR.DE CARNES FINAS SAN JUAN,S.A.DE C.V.': 5,\n",
       " 'VIVERO EL ESCORIAL, S.A. DE C.V.': 0,\n",
       " 'CAR ONE AMERICANA,S.A.DE C.V.': 2,\n",
       " 'MANTENIMIENTO ELECTRICO DE POTENCIA,S.A.DE C.V.': 0,\n",
       " 'AUTOKAM REGIOMONTANA,S.A.DE C.V.': 2,\n",
       " 'CLIMEEZ DEL NORTE,S.A.DE C.V.': 5,\n",
       " 'VALUE ARRENDADORA,S.A.DE C.V. SOFOM ER VALUE GPO.FIN.': 5,\n",
       " 'SEGUROS AFIRME, S.A. DE C.V. AFIRME GRUPO FINANCIERO': 0,\n",
       " 'DESARROLLOS CONSTRUCTIVOS NACIONALES,S.A.DE C.V.': 0,\n",
       " 'BIOANALISIS Y SERVICIOS HEMATOLOGICOS , S.A. DE C.V.': 0,\n",
       " 'SUAREZ MOBILIARIO INTERNACIONAL,S.A.DE C.V.': 0,\n",
       " 'FORTE COMUNICACIONES,S.A.DE C.V.': 0,\n",
       " 'NAUDIN WILLIAMS JORGE TOMAS': 0,\n",
       " 'BIENES AW, S.A. DE C.V.': 0,\n",
       " 'CAR ONE MONTERREY, S.A. DE C.V.': 2,\n",
       " 'DESARROLLOS HUINALA, S.A. DE C.V.': 0,\n",
       " 'SALAZAR GARZA ADRIANA': 0,\n",
       " 'FULL TECHNOLOGY, S.A. DE C.V.': 2,\n",
       " 'COLLENZI COLONNELLO CLARISSA': 5,\n",
       " 'SUPERMERCADOS INTERNACIONALES HEB, S.A. DE C.V.': 5,\n",
       " 'SEGUROS BANORTE, S.A. DE C.V. GRUPO FINANCIERO BANORTE': 0,\n",
       " 'SAG GRUPO AUTOMOTRIZ, S.A. DE C.V.': 0,\n",
       " 'SAMPOGNA GARZA JESUS IGNACIO': 0,\n",
       " 'SI VALE MEXICO, S.A. DE C.V.': 2,\n",
       " 'INTERLAMPARAS, S.A. DE C.V.': 0,\n",
       " 'CONSTRUCTORA NEG, S.A. DE C.V.': 2,\n",
       " 'MALDONADO GONZALEZ ARTURO GUILLERMO': 0,\n",
       " 'VG MAYOREO DE MONTERREY, S.A. DE C.V.': 2,\n",
       " 'DESARROLLOS INMOBILIARIOS JAJEMI, S.A. DE C.V.': 5,\n",
       " 'GRANTE INMOBILIARIA, S.A. DE C.V.': 5,\n",
       " 'LARRALDE LAGUERA MARGARITA': 0,\n",
       " 'PINEDA GUERRERO OSCAR': 0,\n",
       " 'INTERASFALTOS, S.A. DE C.V.': 5,\n",
       " 'M.S. COMERCIALIZADORA E IMPORTADORA, S.A. DE C.V.': 0,\n",
       " 'ANGIO MEDICAL, S.A. DE C.V.': 0,\n",
       " 'GRUPO PRO CREA, S.A. DE C.V.': 0,\n",
       " 'INTEGRACION DE SISTEMAS DE AVANZADA TECNOLOGIA, S.A. DE C.V.': 2,\n",
       " 'HEGV INDUSTRIAL, S.A. DE C.V.': 2,\n",
       " 'GRUPO COYOTE MONTERREY, S.A. DE C.V.': 2,\n",
       " 'INDUSTRIAS SOLA BASIC, S.A. DE C.V.': 2,\n",
       " 'EDIFICIOS DIANA DEL NORTE, S.A. DE C.V.': 5,\n",
       " 'LOGOMUNDO, S.A. DE C.V.': 2,\n",
       " 'PEREZ RIOS RAMIRO': 5,\n",
       " 'CANTU LOGISTICS, S.A. DE C.V.': 2,\n",
       " 'ESPECIALIDADES MEDICAS INTERNACIONALES Y EQUIPO MEDICO SA': 2,\n",
       " 'CANTU ELIZONDO DANIELA': 0,\n",
       " 'BENITES VALDES JOSE LUCIO': 2,\n",
       " 'HOSP.UNIVERSITARIO DR.JOSE E.GONZALEZ': 2,\n",
       " 'BANCO MULTIVA, SA. G.F.M.': 0,\n",
       " 'ASOCIACION DE COLONOS CONTRY LA SILLA A.C.': 0,\n",
       " 'BANCO BANCREA,S.A. ,FIDEICOMISO NUMERO BP417': 0,\n",
       " 'FIDEICOMISO DISTRITO TEC NUM-1718': 0,\n",
       " 'CIUDADANOS EN APOYO A LOS DERECHOS HUMANOS, AC.': 0,\n",
       " 'LOZANO SADA MARIA AMALIA': 5,\n",
       " 'S.U.T.S.M.M.': 2,\n",
       " 'CENTRO INTERNACIONAL DE NEGOCIOS MONTERREY, A.C.': 0,\n",
       " 'BANCO MERCANTIL DEL NORTE S.A. IBM GFB': 0,\n",
       " 'MUNICIPIO DE LA CIUDAD DE MONTERREY': 0,\n",
       " 'MUSEO DE ARTE CONTEMPORANEO DE MONTERREY, AC.': 5,\n",
       " 'CFE SUMINISTRADOR DE SERVICIOS BASICOS': 2,\n",
       " 'NATURGY MEXICO, S.A. DE C.V.': 0,\n",
       " 'SERVICIOS DE AGUA Y DRENAJE DE MONTERREY, IPD.': 2,\n",
       " 'ACEROS Y OVEROLLINGS DE MEXICO, SA. DE CV.': 0,\n",
       " 'AUTO CENTRO CAMIONERO, SA. DE CV.': 2,\n",
       " 'BENAVIDES GONZALEZ LAURA ELENA': 5,\n",
       " 'CENICEROS GARCIA MARIA MAGDALENA': 5,\n",
       " 'CERVEZAS CUAUHTEMOC MOCTEZUMA, SA. DE CV.': 0,\n",
       " 'CINEPOLIS DE MEXICO,S.A. DE C.V.': 0,\n",
       " 'ECOTAXI DE MONTERREY, SA. DE CV.': 2,\n",
       " 'GARZA TREVIÑO JOSE MARIA': 0,\n",
       " 'GOMEZ MEJIA ELSA MARIA': 5,\n",
       " 'GONZALEZ VAZQUEZ EDGAR CECILIO': 2,\n",
       " 'IIRSACERO, SA. DE CV.': 2,\n",
       " 'LAS CERVEZAS MODELO EN NUEVO LEON, SA. DE CV.': 5,\n",
       " 'MARCATEL COM, SA. DE CV.': 2,\n",
       " 'NERI SANCHEZ MARCELO': 0,\n",
       " 'PAEZ YRIGOYEN MARIA DE LOURDES': 5,\n",
       " 'PATENA PUENTE LORENA MIREYA': 0,\n",
       " 'PEREZ FLORES MARIA DEL ROSARIO': 5,\n",
       " 'PEREZ IBARRA ROLANDO ED MISAEL': 2,\n",
       " 'RESTAURANTES TOKS. SA. DE CV.': 5,\n",
       " 'RODRIGUEZ AGUIRRE LIBRADO': 5,\n",
       " 'RODRIGUEZ GOMEZ PAMELA': 5,\n",
       " 'SALAS HERNANDEZ ROBERTO KEVIN': 0,\n",
       " 'TRANSPORTES PROGRESO, SA.': 2,\n",
       " 'TREVIÑO ELIZONDO JOSE HUMBERTO': 0,\n",
       " 'TREVIÑO YAÑEZ JOSE HUMBERTO': 0,\n",
       " 'VAZQUEZ FLORES ELVIRA': 2,\n",
       " 'VELA GONZALEZ OCTAVIO': 5,\n",
       " 'VERGARA CASTELLANOS BALDEMAR ALEJANDRO': 0,\n",
       " 'VILLARREAL DE LEON BERTHA': 2,\n",
       " 'ALIANZA AUTOMOTRIZ RIVERO, SA. DE CV.': 2,\n",
       " 'CANO ZAPATA NATALIA': 2,\n",
       " 'CHUBB SEGUROS MEXICO, S.A.': 2,\n",
       " 'CORPUS MORALES CLAUDIA': 2,\n",
       " 'DECO SEGUROS, SA. DE CV.': 0,\n",
       " 'DOMENE ZAMBRANO MARIA DEL ROCIO': 5,\n",
       " 'EMERGENCIA MEDICA PROFESIONAL, S.C.': 5,\n",
       " 'ESTRADA CASTILLO HILDA LETICIA': 0,\n",
       " 'GARCIA REYES ANA MARIA': 0,\n",
       " 'GONZALEZ CORREA DOLORES DEL CARMEN': 5,\n",
       " 'GONZALEZ SANCHEZ MARIA DE LA LUZ': 5,\n",
       " 'IMPULSORA PROMOBIEN, SA. DE CV.': 0,\n",
       " 'INFONACOT': 2,\n",
       " 'INSTITUTO DE CONTROL VEHICULAR': 0,\n",
       " 'LOMAS LOZANO CLAUDIA PATRICIA': 5,\n",
       " 'MADERA HOLTEN MARIA TERESA': 0,\n",
       " 'METLIFE MEXICO, S.A.': 2,\n",
       " 'MORENO MARTINEZ SONIA': 0,\n",
       " 'OLDER GARCIA CARLOS ALBERTO': 0,\n",
       " 'PADILLA QUINTANILLA RUBI': 0,\n",
       " 'PATRIMONIO S.A. DE C.V. SOFOM ENR': 2,\n",
       " 'RODRIGUEZ ONTIVEROS GLORIA ISABEL': 5,\n",
       " 'SECRETARIA DE FINANZAS Y TESORERIA GRAL DEL EDO DE NL': 0,\n",
       " 'SEGUROS ARGOS, SA. DE CV.': 0,\n",
       " 'SEGUROS VE POR MAS, SA. GRUPO FINANCIERO VE POR MAS': 2,\n",
       " 'TORRES RANGEL ANA MARIA': 5,\n",
       " 'UNIVERSAL DE SERVICIOS PATRIMONIALES, SAPI DE CV SOFOM ENR': 0,\n",
       " 'CHAO CASTRUITA CARMEN': 2,\n",
       " 'CORONEL GONZALEZ MARIA LUISA': 0,\n",
       " 'FLORES ROBLEDO GUADALUPE CONCEPCION': 2,\n",
       " 'LARA SEGURA SINDY  MELIZA': 0,\n",
       " 'RAMIREZ CUELLAR JONATHAN JOSHUA': 2,\n",
       " 'RIOS GOMEZ YENNIFER ITZEL': 5,\n",
       " 'PENSIONES Y JUBILACIONES EMPL. MONTERREY': 0,\n",
       " 'HERNANDEZ JIMENEZ EDUARDO': 0,\n",
       " 'GONZALEZ CANTU ALEXANDRO': 2,\n",
       " 'HERRERA GARCIA ADRIANA HORTENCIA': 0,\n",
       " 'GARCIA NACIANCENO FELIX MANUEL': 0,\n",
       " 'TIJERINA GOMEZ LUCAS OCTAVIO': 5,\n",
       " 'GARCIA ORTIZ ALMA ALICIA': 0,\n",
       " 'LARA SALAZAR LUZ ADRIANA': 0,\n",
       " 'TELLEZ ZOLEZZI CARLOS ALBERTO': 2,\n",
       " 'RAMIREZ ORTIZ RAQUEL ADELA': 2,\n",
       " 'ESPINOSA RODRIGUEZ MARIA JOSE': 5,\n",
       " 'CERECERO MEDINA ZULLY JANETT': 5,\n",
       " 'VARGAS ANTILLON MARCOS': 0,\n",
       " 'GONZALEZ SALINAS ALAN GERARDO': 5,\n",
       " 'GARCIA ALEJANDRO ANALY': 0,\n",
       " 'VALLEJO RAMOS JUAN MANUEL': 0,\n",
       " 'PT CAR CENTER, S.A. DE C.V.': 0,\n",
       " 'LINARES TORRES FERNANDO MANUEL': 0,\n",
       " 'SERVICIO TECNICO CHURUBUSCO, S.A. DE C.V.': 0,\n",
       " 'INMOBILIARIA HFM, S.A. DE C.V.': 2,\n",
       " 'FORTERRA, S.A. DE C.V.': 0,\n",
       " 'CONSTRUCCIONES Y URBANIZACIONES VILLA, S.A. DE C.V.': 2,\n",
       " 'CONSTRUCTORA Y ARRENDADORA SAN SEBASTIAN, S.A. DE C.V.': 2,\n",
       " 'INVESTMENT CAPITAL PARTNERS, S.A. DE C.V.': 0,\n",
       " 'GARCIA ZAVALA EDGAR ALEJANDRO JOBERAGAN': 0,\n",
       " 'GARIBALDI FRECH MARCELO ANDRES': 0,\n",
       " 'TREVIÑO CORREA VALENTIN MARCELO': 0,\n",
       " 'SERVICIOS BROXEL, S.A.P.I. DE C.V.': 5,\n",
       " 'CORDERO MACIAS SILVESTRE GUADALUPE': 5,\n",
       " 'OPERBES, S.A. DE C.V.': 2,\n",
       " 'INFRAESTRUCTURA MQ, SA. DE CV.': 2,\n",
       " 'MANUFACTURAS RECOVERY, S.A. DE C.V.': 2,\n",
       " '235 PROYECTOS, S.A. DE C.V.': 0,\n",
       " 'MOTOR DEAL, S.A. DE C.V.': 0,\n",
       " 'BOMBEROS DE NUEVO LEON, A.B.P.': 2,\n",
       " 'RECYMET SERVICIOS DE MEXICO, S.A. DE C.V.': 2,\n",
       " 'PRODUCTORA PROCESADORA AGRICOLA DE MEXICO S.A DE C.V.': 2,\n",
       " 'CONSTRUCTORA XILOFACTOS, S.A. DE C.V.': 0,\n",
       " 'GAS GARZA SADA, S.A. DE C.V.': 0,\n",
       " 'GASOLINERA NUEVO LEON, S.A. DE C.V.': 0,\n",
       " 'PINEDA OSORIO JOSE NAZARIO': 0,\n",
       " 'GAS HUINALA, S.A. DE C.V.': 0,\n",
       " 'SERVICIO GAS LINCOLN, S.A. DE C.V.': 2,\n",
       " 'GS GAS Q, S.A. DE C.V.': 0,\n",
       " 'GONZALEZ GARZA ROSA LILA': 0,\n",
       " 'BUFETE URBANISTICO, S.A. DE C.V.': 5,\n",
       " 'TOOLS & SERVICES DE MEXICO, S.A. DE C.V.': 2,\n",
       " 'SOLUCIONES Y OPCIONES DE SEGURIDAD PRIVADA,S.A.DE C.V.': 5,\n",
       " 'EOLICA SANTA CATARINA, S. DE R.L. DE C.V.': 0,\n",
       " 'URBANIZACIONES AGV, S.A. DE C.V.': 0,\n",
       " 'RED RECOLECTOR, S.A. DE C.V.': 0,\n",
       " 'RAR SMART NETWORKS, S.A. DE C.V.': 0,\n",
       " 'RAMIREZ VERASTEGUI ISIDRO RAMON': 0,\n",
       " 'CHAPA RIOS RAUL': 0,\n",
       " 'PICO INFRAESTRUCTURA URBANA, SA. DE CV.': 2,\n",
       " 'GUERRERO SEGURA NESTOR': 2,\n",
       " 'PAVIMENTOS Y CONSTRUCCIONES GARCAN, SA. DE CV.': 2,\n",
       " 'GUAJARDO Y ASOCS.CONSTRUCTORA, S.A. DE CV.': 5,\n",
       " 'ABC Y CONSTRUCCIONES, SA. DE CV.': 2,\n",
       " 'CONSTRUCCIONES DYNAMO, SA. DE CV.': 2,\n",
       " 'CONSTRUCTORA JOMABE, SA. DE CV.': 2,\n",
       " 'CONSTRUCCIONES Y URBANIZACIONES DEL PONIENTE, SA. DE CV.': 0,\n",
       " 'INFRAESTRUCTURA Y CONSTRUCCIONES GARCIA, SA. DE CV.': 2,\n",
       " 'CONSTRUCTORA POLITEZZA, SA. DE CV.': 0,\n",
       " 'URBANISMOS ROSALES, SA. DE CV.': 2,\n",
       " 'ARQUITECTURA E INGENIERIA 2000, SA. DE CV.': 2,\n",
       " 'RICE OBRAS, SA. DE CV.': 2,\n",
       " 'ORTIZ MONTOYA HUGO': 2,\n",
       " 'PROVEEDORA PARA LA CONSTRUCCION REGIOMONTANA, S.A. DE C.V.': 2,\n",
       " 'BUILDTECH PAVIMENTOS ESTAMPADOS Y CONSTRUCCIONES, SA. DE CV.': 0,\n",
       " 'DESARROLLO CONSTRUCTIVO Y URBANISTICO, SA. DE CV.': 5,\n",
       " 'CONSORCIO CONSTRUCTIVO Y PROYECTOS, SA. DE CV.': 0,\n",
       " 'MONQ CONSTRUCTORES, SA. DE CV.': 2,\n",
       " 'PROYECTOS Y DESARROLLOS SALVE, SA. DE CV.': 0,\n",
       " 'CEREZO TORRES RAUL': 2,\n",
       " 'CONSTRUCCIONES PAVIMENTO Y EDIFICACIONES COPESA, S.A. DE C.V.': 2,\n",
       " 'CONSTRUCCIONES Y MANTENIMIENTO GAME, SA. DE CV.': 0,\n",
       " 'CONSTRUCTORA Y ARRENDADORA SAN SEBASTIAN, SA. DE CV.': 2,\n",
       " 'HUAJUCO CONSTRUCCIONES, S.A. DE C.V.': 2,\n",
       " 'CONSTRUCCION Y DIRECCION DE OBRA AM, SA. DE CV.': 2,\n",
       " 'CONSTRUCTORA LAZO, S.DE RL. DE CV.': 2,\n",
       " 'DESARROLLOS MAFERSA, SA. DE CV.': 0,\n",
       " 'HTR INFRAESTRUCTURA, SA. DE CV.': 0,\n",
       " 'CKT EDIFICACIONES, SA. DE CV.': 2,\n",
       " 'REGIO ASFALTOS Y CONCRETOS, SA. DE CV.': 0,\n",
       " 'CONSTRUCTORA Y COMERCIALIZADORA IMPERIAL, SA DE CV.': 0,\n",
       " 'SERVICIOS DE AGUA DLO, SA. DE CV.': 2,\n",
       " 'INSTITUTO MUNICIPAL DE LAS MUJERES REGIAS': 0,\n",
       " 'SOLUCION ARTE EN CONSTRUCCION, SA. DE CV.': 5,\n",
       " 'INSTITUTO DE INV.INNOV.Y EST.DE POSG.P/LA EDU.DEL EDO DE NL.': 0,\n",
       " 'UNIVERSIDAD AUTONOMA DE NUEVO LEON': 2,\n",
       " 'CONTRERAS MONSIVAIS DANIEL': 2,\n",
       " 'CAMARA MEXICANA DE LA INDUSTRIA DE LA CONSTRUCCION': 2,\n",
       " 'F/4086906 BBVA BANCOMER, SA.': 2,\n",
       " 'BS CAR SERVICES, S.A. DE C.V.': 2,\n",
       " 'RAMIREZ PEÑA ALEJANDRO': 2,\n",
       " 'INMOBILIARIA ESTRUCTURAL, S.A. DE C.V.': 2,\n",
       " 'UNION POR EL DESARROLLO DE CORAZONES MEXICANOS, A.C.': 0,\n",
       " 'EDIFICACIONES Y TERRACERIAS DEL NORTE, S.A. DE C.V.': 0,\n",
       " 'ADQUISICIONES INTELIGENTES, S.A. DE C.V.': 0,\n",
       " 'CENTRO DE ATENCION, PREVENCION Y SEGURIDAD SOCIAL, S.C.': 5,\n",
       " 'GOBIERNO DEL ESTADO DE DURANGO': 5,\n",
       " 'DESARROLLO Y CONSTRUCCIONES URBANAS, S.A. DE C.V.': 5,\n",
       " 'SIERRA MADRE RACING, S.A. DE C.V.': 5,\n",
       " 'EDDS MANTENIMIENTO, S.A. DE C.V.': 2,\n",
       " 'CONSTRUCTORA MAIZ MIER,S.A. DE C.V.': 2,\n",
       " 'ARMOR LIFE LAB, S.A. DE C.V.': 5,\n",
       " 'INSTITUTO ESTATAL DE CIENCIAS PENALES Y SEGURIDAD PUBLICA': 0,\n",
       " 'UNIVERSIDAD REGIOMONTANA, A.C.': 0,\n",
       " 'ZAPATA CHAVIRA HOMERO ARTURO': 2,\n",
       " 'ORTEGA VAZQUEZ ANDRES JAIME': 2,\n",
       " 'INTEGRACION TECNOLOGICA FISCAL, S. DE RL DE C.V.': 2,\n",
       " 'MANAGEMENT TECHNOLOGY INNOVATIONS, S.C.': 0,\n",
       " 'G&B SOLUTIONS, S.A. DE C.V.': 2,\n",
       " 'VELEZ VALDES ALBERTO': 5,\n",
       " 'NUCLEO RADIO MONTERREY,S.A.DE C.V.': 0,\n",
       " 'SISTEMEDIOS, S.A. DE C.V.': 2,\n",
       " 'RTV & PRESS NEWS,S.A.DE C.V': 2,\n",
       " 'TV DE LOS MOCHIS,S.A.DE C.V.': 0,\n",
       " 'SCRIPTAMTY, S.A. DE C.V.': 2,\n",
       " 'LOZANO CAVAZOS REYNALDO RAMON': 5,\n",
       " 'STEREOREY MEXICO, S.A.': 2,\n",
       " 'VERBO LIBRE EDITORES, S.A. DE C.V.': 0,\n",
       " 'MULTIMEDIOS, S.A. DE C.V.': 0,\n",
       " 'MARQUEZ GOMEZ ISAI': 2,\n",
       " 'MILENIO DIARIO, S.A. DE C.V.': 0,\n",
       " 'MELCHOR GUERRERO PERLA GUADALUPE': 0,\n",
       " 'OVIEDO RODRIGUEZ MARILU': 0,\n",
       " 'M58, S.A. DE C.V.': 0,\n",
       " 'TEAM ONE 2018, S.A. DE C.V.': 2,\n",
       " 'MAGENTA MULTIMEDIA, S.A.P.I. DE C.V.': 0,\n",
       " 'CYAN MEDIA LAB, S.A. DE C.V.': 0,\n",
       " 'MAYORGA CONSULTORES, S.C.': 2,\n",
       " 'PUBLIGAB COMUNICACIONES, S.A. DE C.V.': 0,\n",
       " 'ARRIAGA PEREZ ROCIO JAZMIN': 2,\n",
       " 'AYALA SALAZAR GABRIEL': 0,\n",
       " 'BRANDI ELGUEZABAL MARCELO': 2,\n",
       " 'BRAVO GARZA CARLOS ALBERTO': 0,\n",
       " 'BRAVO MENDOZA JOEL': 0,\n",
       " 'CELEDONIO BECERRA JUAN MIGUEL': 0,\n",
       " 'CORTES SANCHEZ VICTOR MANUEL': 5,\n",
       " 'GALVAN GUERRERO ANDRES': 5,\n",
       " 'GAMEZ RODRIGUEZ PABLO': 5,\n",
       " 'GARCIA GONZALEZ ARTURO': 0,\n",
       " 'GONZALEZ AGUILERA CRISTINA MIROSLAVA': 5,\n",
       " 'GUERRERO MARTINEZ EDGAR FEDERICO': 0,\n",
       " 'HERNANDEZ SOTO BRENDA NATALIA': 2,\n",
       " 'ORDAZ ARANJO JOSE ANTONIO': 0,\n",
       " 'RAMOS DE LA GARZA RAFAEL EDUARDO': 0,\n",
       " 'RAMOS MARROQUIN FRANCISCO JAVIER': 2,\n",
       " 'RODRIGUEZ JUAREZ DANIELA BERENICE': 5,\n",
       " 'RODRIGUEZ MORALES CYNTHIA ESTHER': 0,\n",
       " 'SANCHEZ DAVILA GERARDO RAUL': 0,\n",
       " 'TORRES ACOSTA ROBERTO CARLOS': 5,\n",
       " 'VARGAS GARCIA ALHINNA BERENICE': 2,\n",
       " 'VILLARREAL CARDENAS JUAN IGNACIO': 0,\n",
       " 'VILLARREAL CARDENAS NANCY ESTHER': 0,\n",
       " 'GODOY SANCHEZ RICARDO': 0,\n",
       " 'MIJANGOS DE JESUS FERNANDO': 0,\n",
       " 'MORENO GARCIA JOSE ARTURO': 0,\n",
       " 'SANCHEZ HERNANDEZ SEBASTIAN': 5,\n",
       " 'SEGOVIA PAEZ MARCELO': 2,\n",
       " 'TOVAR CEDILLO JAVIER ALFONSO': 5}"
      ]
     },
     "execution_count": 277,
     "metadata": {},
     "output_type": "execute_result"
    }
   ],
   "source": [
    "business_cluster"
   ]
  },
  {
   "cell_type": "code",
   "execution_count": 278,
   "id": "abc0e00b-4665-444e-b9e0-0037e0c7cb09",
   "metadata": {},
   "outputs": [
    {
     "data": {
      "text/plain": [
       "2    854\n",
       "0    415\n",
       "5    271\n",
       "Name: CLUSTER_NAME, dtype: int64"
      ]
     },
     "execution_count": 278,
     "metadata": {},
     "output_type": "execute_result"
    }
   ],
   "source": [
    "compras_df['CLUSTER_NAME'].value_counts()"
   ]
  },
  {
   "cell_type": "code",
   "execution_count": 279,
   "id": "d1c76f38-c2e3-418c-88bf-8208166abb4a",
   "metadata": {},
   "outputs": [
    {
     "data": {
      "text/plain": [
       "<AxesSubplot:xlabel='CLUSTER_NAME'>"
      ]
     },
     "execution_count": 279,
     "metadata": {},
     "output_type": "execute_result"
    },
    {
     "data": {
      "image/png": "[encoded data removed]",
      "text/plain": [
       "<Figure size 432x288 with 1 Axes>"
      ]
     },
     "metadata": {
      "needs_background": "light"
     },
     "output_type": "display_data"
    }
   ],
   "source": [
    "compras_df.groupby('CLUSTER_NAME')['IMPORTE'].mean().plot.bar()"
   ]
  }
 ],
 "metadata": {
  "kernelspec": {
   "display_name": "Python 3 (ipykernel)",
   "language": "python",
   "name": "python3"
  },
  "language_info": {
   "codemirror_mode": {
    "name": "ipython",
    "version": 3
   },
   "file_extension": ".py",
   "mimetype": "text/x-python",
   "name": "python",
   "nbconvert_exporter": "python",
   "pygments_lexer": "ipython3",
   "version": "3.9.6"
  }
 },
 "nbformat": 4,
 "nbformat_minor": 5
}
