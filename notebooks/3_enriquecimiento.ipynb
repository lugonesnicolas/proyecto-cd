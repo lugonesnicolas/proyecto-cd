{
 "cells": [
  {
   "cell_type": "code",
   "execution_count": 6,
   "id": "a7054325-2564-4068-8f40-aa3685a6e6af",
   "metadata": {},
   "outputs": [],
   "source": [
    "%matplotlib inline\n",
    "import pandas as pd"
   ]
  },
  {
   "cell_type": "code",
   "execution_count": 9,
   "id": "f6c1cb3e-a0da-4c00-9507-b053c606729c",
   "metadata": {},
   "outputs": [],
   "source": [
    "compras_df = pd.read_csv('data/clean_compras.csv')"
   ]
  },
  {
   "cell_type": "code",
   "execution_count": 10,
   "id": "fcebe132-9f52-4bdd-8d1b-9898933e6084",
   "metadata": {},
   "outputs": [
    {
     "data": {
      "text/plain": [
       "NUM BEN           int64\n",
       "BENEFICIARIO     object\n",
       "RFC              object\n",
       "FACTURA          object\n",
       "CONTRATO         object\n",
       "CONCEPTO         object\n",
       "TIPO             object\n",
       "# OP            float64\n",
       "FECHA            object\n",
       "IMPORTE         float64\n",
       "SHEET            object\n",
       "dtype: object"
      ]
     },
     "execution_count": 10,
     "metadata": {},
     "output_type": "execute_result"
    }
   ],
   "source": [
    "compras_df.dtypes #Observamos el formato de la fecha para poder modificarla si es el caso\n",
    "#Recorda que convertiste la data a csv para trabajar, es ahi que las fechas perdieron formato"
   ]
  },
  {
   "cell_type": "markdown",
   "id": "8abca70e-7648-42b4-b8d5-d1612bbbedc0",
   "metadata": {},
   "source": [
    "## Empezamos con una expansion de datos que tenemos, fecha por ejemplo"
   ]
  },
  {
   "cell_type": "code",
   "execution_count": 12,
   "id": "3eb65d2e-72c4-4fe2-8b0a-86f87ffac0a1",
   "metadata": {},
   "outputs": [],
   "source": [
    "compras_df['FECHA'] = pd.to_datetime(compras_df['FECHA'])"
   ]
  },
  {
   "cell_type": "code",
   "execution_count": 13,
   "id": "cef02745-422a-4ede-b884-af7bcf81d8fd",
   "metadata": {},
   "outputs": [],
   "source": [
    "compras_df['DIA'] = compras_df['FECHA'].apply(lambda x : x.day)"
   ]
  },
  {
   "cell_type": "code",
   "execution_count": 14,
   "id": "a9fd086c-076a-466a-adc8-1b097fc12c81",
   "metadata": {},
   "outputs": [],
   "source": [
    "compras_df['MES'] = compras_df['FECHA'].apply(lambda x : x.month)"
   ]
  },
  {
   "cell_type": "code",
   "execution_count": 15,
   "id": "cdb88e9a-e774-40aa-b41a-d81851cbc737",
   "metadata": {},
   "outputs": [],
   "source": [
    "compras_df['ANO'] = compras_df['FECHA'].apply(lambda x : x.year)"
   ]
  },
  {
   "cell_type": "markdown",
   "id": "8fe2fcaf-9d3e-4e57-ac23-35973a254e3f",
   "metadata": {
    "tags": []
   },
   "source": [
    "## Proyectemos unas variables contra otras"
   ]
  },
  {
   "cell_type": "code",
   "execution_count": 17,
   "id": "0c4523b9-3b86-4d61-86e0-6f72efe17d15",
   "metadata": {},
   "outputs": [],
   "source": [
    "beneficiario_sales = compras_df['BENEFICIARIO'].value_counts().to_dict()"
   ]
  },
  {
   "cell_type": "code",
   "execution_count": 18,
   "id": "9b725bc9-84e3-454d-845a-1b3fd4f75336",
   "metadata": {},
   "outputs": [
    {
     "data": {
      "text/plain": [
       "['CAMARA MEXICANA DE LA INDUSTRIA DE LA CONSTRUCCION',\n",
       " 'AUTOKAM REGIOMONTANA,S.A.DE C.V.',\n",
       " 'CAR ONE MONTERREY, S.A. DE C.V.',\n",
       " 'PEREZ RIOS RAMIRO',\n",
       " 'S.I.M.E.P.R.O.D.E.']"
      ]
     },
     "execution_count": 18,
     "metadata": {},
     "output_type": "execute_result"
    }
   ],
   "source": [
    "list(beneficiario_sales.keys())[0:5]"
   ]
  },
  {
   "cell_type": "code",
   "execution_count": 19,
   "id": "75e7172e-7f75-417d-95a2-848891e17b8b",
   "metadata": {},
   "outputs": [],
   "source": [
    "compras_df['BENEFICIARIO_SALES'] = compras_df['BENEFICIARIO'].apply(lambda x:beneficiario_sales[x])"
   ]
  },
  {
   "cell_type": "code",
   "execution_count": 20,
   "id": "60c6195f-6a3c-42ef-8b99-1055b0fe1d38",
   "metadata": {},
   "outputs": [],
   "source": [
    "sheet_mean_compras = compras_df.groupby('SHEET')['IMPORTE'].mean()"
   ]
  },
  {
   "cell_type": "code",
   "execution_count": 21,
   "id": "b32afa6a-d1ea-470e-8925-0ef61faadc28",
   "metadata": {},
   "outputs": [
    {
     "data": {
      "text/plain": [
       "SHEET\n",
       "COMUNICACION              109705.343662\n",
       "CONTRATISTAS Y FDO FED    474566.765787\n",
       "GASTOS VARIOS             881659.731797\n",
       "SERV PPROF                229592.166667\n",
       "SERV. PERS                 59623.405217\n",
       "Name: IMPORTE, dtype: float64"
      ]
     },
     "execution_count": 21,
     "metadata": {},
     "output_type": "execute_result"
    }
   ],
   "source": [
    "sheet_mean_compras"
   ]
  },
  {
   "cell_type": "code",
   "execution_count": 22,
   "id": "de396b09-fa93-4c85-82a3-c4bc83c8b6b8",
   "metadata": {},
   "outputs": [
    {
     "data": {
      "text/plain": [
       "{'COMUNICACION': 109705.34366197183,\n",
       " 'CONTRATISTAS Y FDO FED': 474566.76578729285,\n",
       " 'GASTOS VARIOS': 881659.7317971016,\n",
       " 'SERV PPROF': 229592.16666666666,\n",
       " 'SERV. PERS': 59623.40521739131}"
      ]
     },
     "execution_count": 22,
     "metadata": {},
     "output_type": "execute_result"
    }
   ],
   "source": [
    "sheet_mean_compras.to_dict()"
   ]
  },
  {
   "cell_type": "code",
   "execution_count": 24,
   "id": "43c32410-e076-4ea4-958b-366e5754635d",
   "metadata": {},
   "outputs": [],
   "source": [
    "compras_df['IMPORTE_GASTO_PROMEDIO'] = compras_df['SHEET'].apply(lambda x: sheet_mean_compras[x])"
   ]
  },
  {
   "cell_type": "markdown",
   "id": "f039c30a-2c21-4458-896f-772e7b4be75d",
   "metadata": {},
   "source": [
    "## Traernos informacion externa, enriquecer los datos usando una tool de paginas de linkedin"
   ]
  },
  {
   "cell_type": "code",
   "execution_count": 25,
   "id": "f555e11d-c344-4266-81ca-e7cf6f167445",
   "metadata": {},
   "outputs": [],
   "source": [
    "pd.DataFrame(compras_df['BENEFICIARIO'].unique()).to_csv('data/unique_beneficiarios.csv', index=None) \n",
    "#creamos un archivo que nos extrae todos los nombres para poder realizar un search en linkedin"
   ]
  },
  {
   "cell_type": "code",
   "execution_count": 26,
   "id": "ebc33a06-4b5a-459a-bf7a-2598f4c5c17e",
   "metadata": {},
   "outputs": [],
   "source": [
    "#cargar los datos\n",
    "linkedin_mty = pd.read_csv('data/linkedin_mty.csv')"
   ]
  },
  {
   "cell_type": "code",
   "execution_count": 27,
   "id": "740831d1-6a36-4e55-9630-e7ae20993c80",
   "metadata": {},
   "outputs": [],
   "source": [
    "has_site = {}\n",
    "for i, ele in linkedin_mty.fillna(True).iterrows():\n",
    "    has_site[ele['query']] = True if ele['error'] == True else False\n",
    "    #nos traemos quienes tienen y quienes no linkedin con true y false"
   ]
  },
  {
   "cell_type": "code",
   "execution_count": 28,
   "id": "85d4feb9-1072-426e-aecb-a80632c8218a",
   "metadata": {},
   "outputs": [
    {
     "data": {
      "text/plain": [
       "{'Rosa Lorena Valdez Miranda': True,\n",
       " 'Roque Yañez Ramos': True,\n",
       " 'Laura Perla Cordova Rodriguez': True,\n",
       " 'Rosa Ofelia Coronado Flores': True,\n",
       " 'Alvaro Flores Palomo': True,\n",
       " 'Liliana Tijerina Cantu': True,\n",
       " 'Ruben Basaldua Moyeda': True,\n",
       " 'Maria Cristina Muñoz Rios': True,\n",
       " 'Gerardo Guerrero Adame': True,\n",
       " 'Mayela Maria De Lourdes Quiroga Tamez': True,\n",
       " 'Humberto Arturo Garza De Hoyos': True,\n",
       " 'Irma Montero Solis': True,\n",
       " 'Jorge Alejandro Alvarado Martinez': True,\n",
       " 'Ana Lilia Coronado Araiza': True,\n",
       " 'Francisco Salazar Guadiana': True,\n",
       " 'Maria Thalina Almaraz Gonzalez': True,\n",
       " 'Diego Armando Arellano Aguilar': True,\n",
       " 'Jorge Adrian Ayala Cantu': True,\n",
       " 'Adriana Paola Coronado Ramirez': True,\n",
       " 'LLANTAS Y SERVICIOS SERNA ANAHUAC,S.A. DE C.V.': True,\n",
       " 'GH MAQUINARIA Y EQUIPO, S.A.DE C.V.': True,\n",
       " 'PLOMIFERRETERA EL TORNILLO, S.A. DE C.V.': False,\n",
       " 'EQUIPOS Y ACCESORIOS CANTU, S.A. DE C.V.': True,\n",
       " 'PRAXAIR MEXICO S. DE R.L. DE C.V.': True,\n",
       " 'COMERCIALIZADORA HNOS.ALVAREZ FLORES,S.A.DE C.V.': False,\n",
       " 'DISTRIBUIDORA DE FRUTAS Y LEGUMBRES LA HORTALIZA,S.A.DE C.V.': False,\n",
       " 'NUÑEZ LOPEZ VIRGINIA': True,\n",
       " 'S.I.M.E.P.R.O.D.E.': False,\n",
       " 'TRACTORES Y MAQUINARIA REAL, S.A. DE C.V.': True,\n",
       " 'TELEFONOS DE MEXICO,S.A.B DE C.V.': True,\n",
       " 'MERCANTIL DISTRIBUIDORA, S.A. DE C.V.': True,\n",
       " 'GRANA,S.A.': True,\n",
       " 'CLUB INTERNACIONAL DE MONTERREY,A.C.': True,\n",
       " 'EMPACADORA Y DISTR.DE CARNES FINAS SAN JUAN,S.A.DE C.V.': False,\n",
       " 'VIVERO EL ESCORIAL, S.A. DE C.V.': True,\n",
       " 'CAR ONE AMERICANA,S.A.DE C.V.': True,\n",
       " 'MANTENIMIENTO ELECTRICO DE POTENCIA,S.A.DE C.V.': True,\n",
       " 'AUTOKAM REGIOMONTANA,S.A.DE C.V.': True,\n",
       " 'CLIMEEZ DEL NORTE,S.A.DE C.V.': True,\n",
       " 'VALUE ARRENDADORA,S.A.DE C.V. SOFOM ER VALUE GPO.FIN.': False,\n",
       " 'SEGUROS AFIRME, S.A. DE C.V. AFIRME GRUPO FINANCIERO': True,\n",
       " 'DESARROLLOS CONSTRUCTIVOS NACIONALES,S.A.DE C.V.': True,\n",
       " 'BIOANALISIS Y SERVICIOS HEMATOLOGICOS , S.A. DE C.V.': True,\n",
       " 'SUAREZ MOBILIARIO INTERNACIONAL,S.A.DE C.V.': True,\n",
       " 'FORTE COMUNICACIONES,S.A.DE C.V.': True,\n",
       " 'NAUDIN WILLIAMS JORGE TOMAS': False,\n",
       " 'BIENES AW, S.A. DE C.V.': True,\n",
       " 'CAR ONE MONTERREY, S.A. DE C.V.': True,\n",
       " 'DESARROLLOS HUINALA, S.A. DE C.V.': True,\n",
       " 'SALAZAR GARZA ADRIANA': True,\n",
       " 'FULL TECHNOLOGY, S.A. DE C.V.': True,\n",
       " 'COLLENZI COLONNELLO CLARISSA': False,\n",
       " 'SUPERMERCADOS INTERNACIONALES HEB, S.A. DE C.V.': True,\n",
       " 'SEGUROS BANORTE, S.A. DE C.V. GRUPO FINANCIERO BANORTE': True,\n",
       " 'SAG GRUPO AUTOMOTRIZ, S.A. DE C.V.': True,\n",
       " 'SAMPOGNA GARZA JESUS IGNACIO': True,\n",
       " 'SI VALE MEXICO, S.A. DE C.V.': True,\n",
       " 'INTERLAMPARAS, S.A. DE C.V.': True,\n",
       " 'CONSTRUCTORA NEG, S.A. DE C.V.': True,\n",
       " 'MALDONADO GONZALEZ ARTURO GUILLERMO': True,\n",
       " 'VG MAYOREO DE MONTERREY, S.A. DE C.V.': True,\n",
       " 'DESARROLLOS INMOBILIARIOS JAJEMI, S.A. DE C.V.': False,\n",
       " 'GRANTE INMOBILIARIA, S.A. DE C.V.': True,\n",
       " 'LARRALDE LAGUERA MARGARITA': False,\n",
       " 'PINEDA GUERRERO OSCAR': True,\n",
       " 'INTERASFALTOS, S.A. DE C.V.': True,\n",
       " 'M.S. COMERCIALIZADORA E IMPORTADORA, S.A. DE C.V.': True,\n",
       " 'ANGIO MEDICAL, S.A. DE C.V.': True,\n",
       " 'GRUPO PRO CREA, S.A. DE C.V.': True,\n",
       " 'INTEGRACION DE SISTEMAS DE AVANZADA TECNOLOGIA, S.A. DE C.V.': True,\n",
       " 'HEGV INDUSTRIAL, S.A. DE C.V.': True,\n",
       " 'GRUPO COYOTE MONTERREY, S.A. DE C.V.': True,\n",
       " 'INDUSTRIAS SOLA BASIC, S.A. DE C.V.': True,\n",
       " 'EDIFICIOS DIANA DEL NORTE, S.A. DE C.V.': True,\n",
       " 'LOGOMUNDO, S.A. DE C.V.': True,\n",
       " 'PEREZ RIOS RAMIRO': True,\n",
       " 'CANTU LOGISTICS, S.A. DE C.V.': True,\n",
       " 'ESPECIALIDADES MEDICAS INTERNACIONALES Y EQUIPO MEDICO SA': True,\n",
       " 'CANTU ELIZONDO DANIELA': True,\n",
       " 'BENITES VALDES JOSE LUCIO': True,\n",
       " 'HOSP.UNIVERSITARIO DR.JOSE E.GONZALEZ': False,\n",
       " 'BANCO MULTIVA, SA. G.F.M.': True,\n",
       " 'ASOCIACION DE COLONOS CONTRY LA SILLA A.C.': True,\n",
       " 'BANCO BANCREA,S.A. ,FIDEICOMISO NUMERO BP417': False,\n",
       " 'FIDEICOMISO DISTRITO TEC NUM-1718': False,\n",
       " 'CIUDADANOS EN APOYO A LOS DERECHOS HUMANOS, AC.': True,\n",
       " 'LOZANO SADA MARIA AMALIA': True,\n",
       " 'S.U.T.S.M.M.': False,\n",
       " 'CENTRO INTERNACIONAL DE NEGOCIOS MONTERREY, A.C.': True,\n",
       " 'BANCO MERCANTIL DEL NORTE S.A. IBM GFB': True,\n",
       " 'MUNICIPIO DE LA CIUDAD DE MONTERREY': True,\n",
       " 'MUSEO DE ARTE CONTEMPORANEO DE MONTERREY, AC.': True,\n",
       " 'CFE SUMINISTRADOR DE SERVICIOS BASICOS': True,\n",
       " 'NATURGY MEXICO, S.A. DE C.V.': True,\n",
       " 'SERVICIOS DE AGUA Y DRENAJE DE MONTERREY, IPD.': True,\n",
       " 'ACEROS Y OVEROLLINGS DE MEXICO, SA. DE CV.': True,\n",
       " 'AUTO CENTRO CAMIONERO, SA. DE CV.': True,\n",
       " 'BENAVIDES GONZALEZ LAURA ELENA': True,\n",
       " 'CENICEROS GARCIA MARIA MAGDALENA': True,\n",
       " 'CERVEZAS CUAUHTEMOC MOCTEZUMA, SA. DE CV.': True,\n",
       " 'CINEPOLIS DE MEXICO,S.A. DE C.V.': True,\n",
       " 'ECOTAXI DE MONTERREY, SA. DE CV.': True,\n",
       " 'GARZA TREVIÑO JOSE MARIA': True,\n",
       " 'GOMEZ MEJIA ELSA MARIA': True,\n",
       " 'GONZALEZ VAZQUEZ EDGAR CECILIO': True,\n",
       " 'IIRSACERO, SA. DE CV.': True,\n",
       " 'LAS CERVEZAS MODELO EN NUEVO LEON, SA. DE CV.': True,\n",
       " 'MARCATEL COM, SA. DE CV.': True,\n",
       " 'NERI SANCHEZ MARCELO': True,\n",
       " 'PAEZ YRIGOYEN MARIA DE LOURDES': True,\n",
       " 'PATENA PUENTE LORENA MIREYA': False,\n",
       " 'PEREZ FLORES MARIA DEL ROSARIO': True,\n",
       " 'PEREZ IBARRA ROLANDO ED MISAEL': True,\n",
       " 'RESTAURANTES TOKS. SA. DE CV.': True,\n",
       " 'RODRIGUEZ AGUIRRE LIBRADO': True,\n",
       " 'RODRIGUEZ GOMEZ PAMELA': True,\n",
       " 'SALAS HERNANDEZ ROBERTO KEVIN': True,\n",
       " 'TRANSPORTES PROGRESO, SA.': True,\n",
       " 'TREVIÑO ELIZONDO JOSE HUMBERTO': True,\n",
       " 'TREVIÑO YAÑEZ JOSE HUMBERTO': True,\n",
       " 'VAZQUEZ FLORES ELVIRA': True,\n",
       " 'VELA GONZALEZ OCTAVIO': True,\n",
       " 'VERGARA CASTELLANOS BALDEMAR ALEJANDRO': True,\n",
       " 'VILLARREAL DE LEON BERTHA': True,\n",
       " 'ALIANZA AUTOMOTRIZ RIVERO, SA. DE CV.': True,\n",
       " 'CANO ZAPATA NATALIA': True,\n",
       " 'CHUBB SEGUROS MEXICO, S.A.': True,\n",
       " 'CORPUS MORALES CLAUDIA': True,\n",
       " 'DECO SEGUROS, SA. DE CV.': True,\n",
       " 'DOMENE ZAMBRANO MARIA DEL ROCIO': True,\n",
       " 'EMERGENCIA MEDICA PROFESIONAL, S.C.': True,\n",
       " 'ESTRADA CASTILLO HILDA LETICIA': True,\n",
       " 'GARCIA REYES ANA MARIA': True,\n",
       " 'GONZALEZ CORREA DOLORES DEL CARMEN': True,\n",
       " 'GONZALEZ SANCHEZ MARIA DE LA LUZ': True,\n",
       " 'IMPULSORA PROMOBIEN, SA. DE CV.': True,\n",
       " 'INFONACOT': True,\n",
       " 'INSTITUTO DE CONTROL VEHICULAR': True,\n",
       " 'LOMAS LOZANO CLAUDIA PATRICIA': True,\n",
       " 'MADERA HOLTEN MARIA TERESA': False,\n",
       " 'METLIFE MEXICO, S.A.': True,\n",
       " 'MORENO MARTINEZ SONIA': True,\n",
       " 'OLDER GARCIA CARLOS ALBERTO': True,\n",
       " 'PADILLA QUINTANILLA RUBI': True,\n",
       " 'PATRIMONIO S.A. DE C.V. SOFOM ENR': True,\n",
       " 'RODRIGUEZ ONTIVEROS GLORIA ISABEL': True,\n",
       " 'SECRETARIA DE FINANZAS Y TESORERIA GRAL DEL EDO DE NL': True,\n",
       " 'SEGUROS ARGOS, SA. DE CV.': True,\n",
       " 'SEGUROS VE POR MAS, SA. GRUPO FINANCIERO VE POR MAS': True,\n",
       " 'TORRES RANGEL ANA MARIA': True,\n",
       " 'UNIVERSAL DE SERVICIOS PATRIMONIALES, SAPI DE CV SOFOM ENR': True,\n",
       " 'CHAO CASTRUITA CARMEN': False,\n",
       " 'CORONEL GONZALEZ MARIA LUISA': True,\n",
       " 'FLORES ROBLEDO GUADALUPE CONCEPCION': True,\n",
       " 'LARA SEGURA SINDY MELIZA': True,\n",
       " 'RAMIREZ CUELLAR JONATHAN JOSHUA': True,\n",
       " 'RIOS GOMEZ YENNIFER ITZEL': True,\n",
       " 'PENSIONES Y JUBILACIONES EMPL. MONTERREY': True,\n",
       " 'HERNANDEZ JIMENEZ EDUARDO': True,\n",
       " 'GONZALEZ CANTU ALEXANDRO': True,\n",
       " 'HERRERA GARCIA ADRIANA HORTENCIA': True,\n",
       " 'GARCIA NACIANCENO FELIX MANUEL': True,\n",
       " 'TIJERINA GOMEZ LUCAS OCTAVIO': False,\n",
       " 'GARCIA ORTIZ ALMA ALICIA': True,\n",
       " 'LARA SALAZAR LUZ ADRIANA': True,\n",
       " 'TELLEZ ZOLEZZI CARLOS ALBERTO': True,\n",
       " 'RAMIREZ ORTIZ RAQUEL ADELA': True,\n",
       " 'ESPINOSA RODRIGUEZ MARIA JOSE': True,\n",
       " 'CERECERO MEDINA ZULLY JANETT': False,\n",
       " 'VARGAS ANTILLON MARCOS': True,\n",
       " 'GONZALEZ SALINAS ALAN GERARDO': True,\n",
       " 'GARCIA ALEJANDRO ANALY': True,\n",
       " 'VALLEJO RAMOS JUAN MANUEL': True,\n",
       " 'PT CAR CENTER, S.A. DE C.V.': True,\n",
       " 'LINARES TORRES FERNANDO MANUEL': True,\n",
       " 'SERVICIO TECNICO CHURUBUSCO, S.A. DE C.V.': True,\n",
       " 'INMOBILIARIA HFM, S.A. DE C.V.': True,\n",
       " 'FORTERRA, S.A. DE C.V.': True,\n",
       " 'CONSTRUCCIONES Y URBANIZACIONES VILLA, S.A. DE C.V.': True,\n",
       " 'CONSTRUCTORA Y ARRENDADORA SAN SEBASTIAN, S.A. DE C.V.': True,\n",
       " 'INVESTMENT CAPITAL PARTNERS, S.A. DE C.V.': True,\n",
       " 'GARCIA ZAVALA EDGAR ALEJANDRO JOBERAGAN': False,\n",
       " 'GARIBALDI FRECH MARCELO ANDRES': True,\n",
       " 'TREVIÑO CORREA VALENTIN MARCELO': False,\n",
       " 'SERVICIOS BROXEL, S.A.P.I. DE C.V.': True,\n",
       " 'CORDERO MACIAS SILVESTRE GUADALUPE': True,\n",
       " 'OPERBES, S.A. DE C.V.': True,\n",
       " 'INFRAESTRUCTURA MQ, SA. DE CV.': True,\n",
       " 'MANUFACTURAS RECOVERY, S.A. DE C.V.': True,\n",
       " '235 PROYECTOS, S.A. DE C.V.': True,\n",
       " 'MOTOR DEAL, S.A. DE C.V.': True,\n",
       " 'BOMBEROS DE NUEVO LEON, A.B.P.': True,\n",
       " 'RECYMET SERVICIOS DE MEXICO, S.A. DE C.V.': True,\n",
       " 'PRODUCTORA PROCESADORA AGRICOLA DE MEXICO S.A DE C.V.': True,\n",
       " 'CONSTRUCTORA XILOFACTOS, S.A. DE C.V.': False,\n",
       " 'GAS GARZA SADA, S.A. DE C.V.': True,\n",
       " 'GASOLINERA NUEVO LEON, S.A. DE C.V.': True,\n",
       " 'PINEDA OSORIO JOSE NAZARIO': True,\n",
       " 'GAS HUINALA, S.A. DE C.V.': True,\n",
       " 'SERVICIO GAS LINCOLN, S.A. DE C.V.': True,\n",
       " 'GS GAS Q, S.A. DE C.V.': False,\n",
       " 'GONZALEZ GARZA ROSA LILA': True,\n",
       " 'BUFETE URBANISTICO, S.A. DE C.V.': True,\n",
       " 'TOOLS & SERVICES DE MEXICO, S.A. DE C.V.': True,\n",
       " 'SOLUCIONES Y OPCIONES DE SEGURIDAD PRIVADA,S.A.DE C.V.': True,\n",
       " 'EOLICA SANTA CATARINA, S. DE R.L. DE C.V.': True,\n",
       " 'URBANIZACIONES AGV, S.A. DE C.V.': True,\n",
       " 'RED RECOLECTOR, S.A. DE C.V.': True,\n",
       " 'RAR SMART NETWORKS, S.A. DE C.V.': True,\n",
       " 'RAMIREZ VERASTEGUI ISIDRO RAMON': True,\n",
       " 'CHAPA RIOS RAUL': True,\n",
       " 'PICO INFRAESTRUCTURA URBANA, SA. DE CV.': True,\n",
       " 'GUERRERO SEGURA NESTOR': True,\n",
       " 'PAVIMENTOS Y CONSTRUCCIONES GARCAN, SA. DE CV.': True,\n",
       " 'GUAJARDO Y ASOCS.CONSTRUCTORA, S.A. DE CV.': True,\n",
       " 'ABC Y CONSTRUCCIONES, SA. DE CV.': True,\n",
       " 'CONSTRUCCIONES DYNAMO, SA. DE CV.': True,\n",
       " 'CONSTRUCTORA JOMABE, SA. DE CV.': True,\n",
       " 'CONSTRUCCIONES Y URBANIZACIONES DEL PONIENTE, SA. DE CV.': True,\n",
       " 'INFRAESTRUCTURA Y CONSTRUCCIONES GARCIA, SA. DE CV.': True,\n",
       " 'CONSTRUCTORA POLITEZZA, SA. DE CV.': True,\n",
       " 'URBANISMOS ROSALES, SA. DE CV.': True,\n",
       " 'ARQUITECTURA E INGENIERIA 2000, SA. DE CV.': True,\n",
       " 'RICE OBRAS, SA. DE CV.': True,\n",
       " 'ORTIZ MONTOYA HUGO': True,\n",
       " 'PROVEEDORA PARA LA CONSTRUCCION REGIOMONTANA, S.A. DE C.V.': True,\n",
       " 'BUILDTECH PAVIMENTOS ESTAMPADOS Y CONSTRUCCIONES, SA. DE CV.': True,\n",
       " 'DESARROLLO CONSTRUCTIVO Y URBANISTICO, SA. DE CV.': True,\n",
       " 'CONSORCIO CONSTRUCTIVO Y PROYECTOS, SA. DE CV.': True,\n",
       " 'MONQ CONSTRUCTORES, SA. DE CV.': True,\n",
       " 'PROYECTOS Y DESARROLLOS SALVE, SA. DE CV.': True,\n",
       " 'CEREZO TORRES RAUL': True,\n",
       " 'CONSTRUCCIONES PAVIMENTO Y EDIFICACIONES COPESA, S.A. DE C.V.': True,\n",
       " 'CONSTRUCCIONES Y MANTENIMIENTO GAME, SA. DE CV.': True,\n",
       " 'CONSTRUCTORA Y ARRENDADORA SAN SEBASTIAN, SA. DE CV.': True,\n",
       " 'HUAJUCO CONSTRUCCIONES, S.A. DE C.V.': True,\n",
       " 'CONSTRUCCION Y DIRECCION DE OBRA AM, SA. DE CV.': True,\n",
       " 'CONSTRUCTORA LAZO, S.DE RL. DE CV.': True,\n",
       " 'DESARROLLOS MAFERSA, SA. DE CV.': True,\n",
       " 'HTR INFRAESTRUCTURA, SA. DE CV.': True,\n",
       " 'CKT EDIFICACIONES, SA. DE CV.': True,\n",
       " 'REGIO ASFALTOS Y CONCRETOS, SA. DE CV.': True,\n",
       " 'CONSTRUCTORA Y COMERCIALIZADORA IMPERIAL, SA DE CV.': True,\n",
       " 'SERVICIOS DE AGUA DLO, SA. DE CV.': True,\n",
       " 'INSTITUTO MUNICIPAL DE LAS MUJERES REGIAS': True,\n",
       " 'SOLUCION ARTE EN CONSTRUCCION, SA. DE CV.': True,\n",
       " 'INSTITUTO DE INV.INNOV.Y EST.DE POSG.P/LA EDU.DEL EDO DE NL.': False,\n",
       " 'UNIVERSIDAD AUTONOMA DE NUEVO LEON': True,\n",
       " 'CONTRERAS MONSIVAIS DANIEL': True,\n",
       " 'CAMARA MEXICANA DE LA INDUSTRIA DE LA CONSTRUCCION': True,\n",
       " 'F/4086906 BBVA BANCOMER, SA.': False,\n",
       " 'BS CAR SERVICES, S.A. DE C.V.': True,\n",
       " 'RAMIREZ PEÑA ALEJANDRO': True,\n",
       " 'INMOBILIARIA ESTRUCTURAL, S.A. DE C.V.': True,\n",
       " 'UNION POR EL DESARROLLO DE CORAZONES MEXICANOS, A.C.': True,\n",
       " 'EDIFICACIONES Y TERRACERIAS DEL NORTE, S.A. DE C.V.': True,\n",
       " 'ADQUISICIONES INTELIGENTES, S.A. DE C.V.': True,\n",
       " 'CENTRO DE ATENCION, PREVENCION Y SEGURIDAD SOCIAL, S.C.': True,\n",
       " 'GOBIERNO DEL ESTADO DE DURANGO': True,\n",
       " 'DESARROLLO Y CONSTRUCCIONES URBANAS, S.A. DE C.V.': True,\n",
       " 'SIERRA MADRE RACING, S.A. DE C.V.': True,\n",
       " 'EDDS MANTENIMIENTO, S.A. DE C.V.': True,\n",
       " 'CONSTRUCTORA MAIZ MIER,S.A. DE C.V.': True,\n",
       " 'ARMOR LIFE LAB, S.A. DE C.V.': True,\n",
       " 'INSTITUTO ESTATAL DE CIENCIAS PENALES Y SEGURIDAD PUBLICA': True,\n",
       " 'UNIVERSIDAD REGIOMONTANA, A.C.': True,\n",
       " 'ZAPATA CHAVIRA HOMERO ARTURO': True,\n",
       " 'ORTEGA VAZQUEZ ANDRES JAIME': True,\n",
       " 'INTEGRACION TECNOLOGICA FISCAL, S. DE RL DE C.V.': True,\n",
       " 'MANAGEMENT TECHNOLOGY INNOVATIONS, S.C.': True,\n",
       " 'G&B SOLUTIONS, S.A. DE C.V.': True,\n",
       " 'VELEZ VALDES ALBERTO': True,\n",
       " 'NUCLEO RADIO MONTERREY,S.A.DE C.V.': True,\n",
       " 'SISTEMEDIOS, S.A. DE C.V.': True,\n",
       " 'RTV & PRESS NEWS,S.A.DE C.V': True,\n",
       " 'TV DE LOS MOCHIS,S.A.DE C.V.': True,\n",
       " 'SCRIPTAMTY, S.A. DE C.V.': True,\n",
       " 'LOZANO CAVAZOS REYNALDO RAMON': True,\n",
       " 'STEREOREY MEXICO, S.A.': True,\n",
       " 'VERBO LIBRE EDITORES, S.A. DE C.V.': True,\n",
       " 'MULTIMEDIOS, S.A. DE C.V.': True,\n",
       " 'MARQUEZ GOMEZ ISAI': True,\n",
       " 'MILENIO DIARIO, S.A. DE C.V.': True,\n",
       " 'MELCHOR GUERRERO PERLA GUADALUPE': True,\n",
       " 'OVIEDO RODRIGUEZ MARILU': True,\n",
       " 'M58, S.A. DE C.V.': True,\n",
       " 'TEAM ONE 2018, S.A. DE C.V.': True,\n",
       " 'MAGENTA MULTIMEDIA, S.A.P.I. DE C.V.': False,\n",
       " 'CYAN MEDIA LAB, S.A. DE C.V.': True,\n",
       " 'MAYORGA CONSULTORES, S.C.': True,\n",
       " 'PUBLIGAB COMUNICACIONES, S.A. DE C.V.': False,\n",
       " 'ARRIAGA PEREZ ROCIO JAZMIN': True,\n",
       " 'AYALA SALAZAR GABRIEL': True,\n",
       " 'BRANDI ELGUEZABAL MARCELO': False,\n",
       " 'BRAVO GARZA CARLOS ALBERTO': True,\n",
       " 'BRAVO MENDOZA JOEL': True,\n",
       " 'CELEDONIO BECERRA JUAN MIGUEL': True,\n",
       " 'CORTES SANCHEZ VICTOR MANUEL': True,\n",
       " 'GALVAN GUERRERO ANDRES': True,\n",
       " 'GAMEZ RODRIGUEZ PABLO': True,\n",
       " 'GARCIA GONZALEZ ARTURO': True,\n",
       " 'GONZALEZ AGUILERA CRISTINA MIROSLAVA': True,\n",
       " 'GUERRERO MARTINEZ EDGAR FEDERICO': True,\n",
       " 'HERNANDEZ SOTO BRENDA NATALIA': True,\n",
       " 'ORDAZ ARANJO JOSE ANTONIO': True,\n",
       " 'RAMOS DE LA GARZA RAFAEL EDUARDO': True,\n",
       " 'RAMOS MARROQUIN FRANCISCO JAVIER': True,\n",
       " 'RODRIGUEZ JUAREZ DANIELA BERENICE': True,\n",
       " 'RODRIGUEZ MORALES CYNTHIA ESTHER': True,\n",
       " 'SANCHEZ DAVILA GERARDO RAUL': True,\n",
       " 'TORRES ACOSTA ROBERTO CARLOS': True,\n",
       " 'VARGAS GARCIA ALHINNA BERENICE': False,\n",
       " 'VILLARREAL CARDENAS JUAN IGNACIO': True,\n",
       " 'VILLARREAL CARDENAS NANCY ESTHER': True,\n",
       " 'GODOY SANCHEZ RICARDO': True,\n",
       " 'MIJANGOS DE JESUS FERNANDO': True,\n",
       " 'MORENO GARCIA JOSE ARTURO': True,\n",
       " 'SANCHEZ HERNANDEZ SEBASTIAN': True,\n",
       " 'SEGOVIA PAEZ MARCELO': True,\n",
       " 'TOVAR CEDILLO JAVIER ALFONSO': True}"
      ]
     },
     "execution_count": 28,
     "metadata": {},
     "output_type": "execute_result"
    }
   ],
   "source": [
    "has_site"
   ]
  },
  {
   "cell_type": "code",
   "execution_count": 29,
   "id": "ed9c1b10-4558-4e3f-9d24-81c13309ef31",
   "metadata": {},
   "outputs": [],
   "source": [
    "compras_df['HAS_LINKED_SITE'] = compras_df['BENEFICIARIO'].apply(lambda x: has_site[x.replace('  ', ' ')])\n",
    "#creamos la variable/columna que contenga los valores si tienen o no pagine de linkedin"
   ]
  },
  {
   "cell_type": "code",
   "execution_count": 30,
   "id": "b0c2f345-aef0-4002-be69-fb8c2f032591",
   "metadata": {},
   "outputs": [
    {
     "data": {
      "text/plain": [
       "0       True\n",
       "1       True\n",
       "2       True\n",
       "3       True\n",
       "4       True\n",
       "        ... \n",
       "1535    True\n",
       "1536    True\n",
       "1537    True\n",
       "1538    True\n",
       "1539    True\n",
       "Name: HAS_LINKED_SITE, Length: 1540, dtype: bool"
      ]
     },
     "execution_count": 30,
     "metadata": {},
     "output_type": "execute_result"
    }
   ],
   "source": [
    "compras_df['HAS_LINKED_SITE']"
   ]
  },
  {
   "cell_type": "code",
   "execution_count": 32,
   "id": "7edb02f7-ea5b-420a-9436-7a849604068e",
   "metadata": {},
   "outputs": [
    {
     "data": {
      "text/plain": [
       "True     1392\n",
       "False     148\n",
       "Name: HAS_LINKED_SITE, dtype: int64"
      ]
     },
     "execution_count": 32,
     "metadata": {},
     "output_type": "execute_result"
    }
   ],
   "source": [
    "compras_df['HAS_LINKED_SITE'].value_counts()"
   ]
  },
  {
   "cell_type": "code",
   "execution_count": 33,
   "id": "2feece39-8f34-43be-8f6c-a3821e5b12bd",
   "metadata": {},
   "outputs": [],
   "source": [
    "compras_df.to_csv('data/compras_df_enriched.csv', index=None)"
   ]
  }
 ],
 "metadata": {
  "kernelspec": {
   "display_name": "Python 3 (ipykernel)",
   "language": "python",
   "name": "python3"
  },
  "language_info": {
   "codemirror_mode": {
    "name": "ipython",
    "version": 3
   },
   "file_extension": ".py",
   "mimetype": "text/x-python",
   "name": "python",
   "nbconvert_exporter": "python",
   "pygments_lexer": "ipython3",
   "version": "3.9.6"
  }
 },
 "nbformat": 4,
 "nbformat_minor": 5
}
